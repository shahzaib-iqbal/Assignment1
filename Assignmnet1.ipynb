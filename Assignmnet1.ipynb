{
 "cells": [
  {
   "cell_type": "markdown",
   "metadata": {},
   "source": [
    "# Q1\n"
   ]
  },
  {
   "cell_type": "code",
   "execution_count": 25,
   "metadata": {},
   "outputs": [
    {
     "name": "stdout",
     "output_type": "stream",
     "text": [
      "Enter Number\n",
      "1000000\n",
      "55\n"
     ]
    }
   ],
   "source": [
    "import math\n",
    "def check_circular_prime(num,range_num):\n",
    "    copy_num=num\n",
    "    duplicate=0\n",
    "    string=str(num)\n",
    "    lenght=len(string)\n",
    "    for j in range (1,lenght,1):\n",
    "        duplicate=int(copy_num%10)\n",
    "        copy_num=int(copy_num/10)\n",
    "        for i in range (1,lenght,1):\n",
    "            duplicate=duplicate*10\n",
    "        duplicate=duplicate+copy_num\n",
    "        if(check_prime(duplicate)!=1):\n",
    "            return 0\n",
    "        copy_num=duplicate\n",
    "    return 1\n",
    "def check_prime(num):\n",
    "    if(num==2 or num==3):\n",
    "        return 1\n",
    "    for i in range(2,int(math.sqrt(num))+1,1):\n",
    "        if(num%i==0):\n",
    "            return 0\n",
    "    return 1\n",
    "\n",
    "count=0\n",
    "x=0\n",
    "x=int(input(\"Enter Number\\n\"))\n",
    "for i in range (x,1,-1):\n",
    "    if(check_prime(i)==1):\n",
    "        if(check_circular_prime(i,x)==1):\n",
    "            count=count+1\n",
    "print(count)\n",
    "count=0\n",
    "x=0"
   ]
  },
  {
   "cell_type": "markdown",
   "metadata": {},
   "source": [
    "# Q2\n"
   ]
  },
  {
   "cell_type": "code",
   "execution_count": 24,
   "metadata": {},
   "outputs": [
    {
     "name": "stdout",
     "output_type": "stream",
     "text": [
      "Enter Number\n",
      "100\n",
      "41\n"
     ]
    }
   ],
   "source": [
    "def check_prime(num):\n",
    "    if(num==2 or num==3):\n",
    "        return 1\n",
    "    for i in range(2,int(math.sqrt(num))+1,1):\n",
    "        if(num%i==0):\n",
    "            return 0\n",
    "    return 1\n",
    "def check_Series_of_prime_sum(num,x):\n",
    "    count=0\n",
    "    for j in range (2,num,1):\n",
    "          if(check_prime(j)==1):\n",
    "                count=count+j\n",
    "                if(count==num):\n",
    "                    return 1\n",
    "                elif(count>num):\n",
    "                    return 0\n",
    "    return 0\n",
    "count=0\n",
    "x=int(input(\"Enter Number\\n\"))\n",
    "for i in range (x,1,-1):\n",
    "    if(check_prime(i)==1):\n",
    "        if(check_Series_of_prime_sum(i,x)==1):\n",
    "            count=i\n",
    "            break\n",
    "                    \n",
    "print(count)"
   ]
  },
  {
   "cell_type": "markdown",
   "metadata": {},
   "source": [
    "# Q3\n"
   ]
  },
  {
   "cell_type": "code",
   "execution_count": 23,
   "metadata": {},
   "outputs": [
    {
     "name": "stdout",
     "output_type": "stream",
     "text": [
      "23\n",
      "37\n",
      "53\n",
      "73\n",
      "313\n",
      "317\n",
      "373\n",
      "797\n",
      "3137\n",
      "3797\n",
      "739397\n",
      "748317\n"
     ]
    }
   ],
   "source": [
    "import math\n",
    "def check_prime(num):\n",
    "    if(num==1 or num==0):\n",
    "        return 0\n",
    "    if(num==2 or num==3):\n",
    "        return 1\n",
    "    for i in range(2,int(math.sqrt(num))+1,1):\n",
    "        if(num%i==0):\n",
    "            return 0\n",
    "    return 1\n",
    "def check_left_to_right(num):\n",
    "    temp=num\n",
    "    string=str(num)\n",
    "    lenght=len(string)\n",
    "    if(lenght>1):\n",
    "        divider=10\n",
    "        for i in range (0,lenght-2,1):\n",
    "            divider=divider*10\n",
    "        while(temp>0):\n",
    "            temp=int(num%divider)\n",
    "            if(temp==0):\n",
    "                return 1\n",
    "            if(check_prime(temp)==0):\n",
    "                return 0\n",
    "            divider=int(divider/10)\n",
    "        return 1\n",
    "    return 0\n",
    "def check_right_to_left(num):\n",
    "    while(num>1):\n",
    "        num=int(num/10)\n",
    "        if(num==0):\n",
    "            return 1\n",
    "        if(check_prime(num)==0):\n",
    "            return 0\n",
    "    return 1\n",
    "count=0\n",
    "i=2\n",
    "ans_sum=0\n",
    "while(count!=11):\n",
    "    if(check_prime(i)==1):\n",
    "        if(check_left_to_right(i)==1 and check_right_to_left(i)==1):\n",
    "            print(i)\n",
    "            ans_sum=ans_sum+i\n",
    "            count=count+1\n",
    "    i=i+1\n",
    "print(ans_sum)\n",
    "            "
   ]
  },
  {
   "cell_type": "markdown",
   "metadata": {},
   "source": [
    "# Q4"
   ]
  },
  {
   "cell_type": "code",
   "execution_count": 6,
   "metadata": {},
   "outputs": [
    {
     "name": "stdout",
     "output_type": "stream",
     "text": [
      "Enter Number=10000\n",
      "246\n"
     ]
    }
   ],
   "source": [
    "def reverse_String(string):\n",
    "    temp=0\n",
    "    end=len(string)-1\n",
    "    for i in range (int(len(string)-1),-1,-1):\n",
    "        temp=temp+int(string[i])\n",
    "        if(i==0):\n",
    "            break\n",
    "        temp=temp*10\n",
    "    return temp\n",
    "def check_palindrom(num):\n",
    "    if(reverse_String(str(num))==num):\n",
    "        return 1\n",
    "    return 0\n",
    "def itrate_untill_become_palindrom(num):\n",
    "    i=0\n",
    "    while(check_palindrom(num)!=1 and i<50):\n",
    "        num=num+int(reverse_String(str(num)))\n",
    "        i+=1\n",
    "    if(check_palindrom(num)==1):\n",
    "        return 1\n",
    "    return 0\n",
    "count=0\n",
    "x=int(input(\"Enter Number=\"))\n",
    "for i in range(0,x,1):\n",
    "    if(check_palindrom(i)!=1):\n",
    "        if(itrate_untill_become_palindrom(i)!=1):\n",
    "               count+=1\n",
    "print(count)\n",
    "\n",
    "        "
   ]
  },
  {
   "cell_type": "markdown",
   "metadata": {},
   "source": [
    "# Q5\n"
   ]
  },
  {
   "cell_type": "code",
   "execution_count": 22,
   "metadata": {},
   "outputs": [
    {
     "name": "stdout",
     "output_type": "stream",
     "text": [
      "Enter Size:4\n",
      "Enter values\n",
      "4\n",
      "2\n",
      "6\n",
      "1\n",
      "Queue values\n",
      "4\n",
      "2\n",
      "6\n",
      "1\n",
      "Smallest value in Queue= 1\n"
     ]
    }
   ],
   "source": [
    "class Queue:\n",
    "    def __init__(self,size=0):\n",
    "        self.size=size\n",
    "        self.ptr=[None for i in range(size)]\n",
    "        self.front=0\n",
    "        self.rare=0\n",
    "    def front_value(self):\n",
    "        return(self.ptr[self.front])\n",
    "    def IsEmpty(self):\n",
    "        if(self.front==0 and self.rare==0):\n",
    "            return 1\n",
    "        elif(self.front>self.rare):\n",
    "            return 1\n",
    "        return 0\n",
    "    def IsFull(self):\n",
    "        if(self.front==0 and self.rare== size):\n",
    "            return 1\n",
    "        elif(self.front-rare==1):\n",
    "            return 1\n",
    "        return 0\n",
    "    def Enqueue(self,value):\n",
    "        if(self.rare-self.front!=self.size and  self.front-self.rare!=1):\n",
    "            if(self.rare==0):\n",
    "                self.ptr[self.rare]=value\n",
    "                self.rare=self.rare+1\n",
    "            else:\n",
    "                self.rare=(self.rare)%self.size\n",
    "                self.ptr[self.rare]=value\n",
    "                self.rare=self.rare+1\n",
    "    def Dequeue(self):\n",
    "        if(self.rare!=self.front):\n",
    "            value=self.ptr[self.front]\n",
    "            self.front=(self.front+1)%self.size\n",
    "            return value\n",
    "    def Print(self):\n",
    "        if(self.front>0 and self.front==self.rare):\n",
    "            for i in range (self.front,self.size,1):\n",
    "                print(self.ptr[i])\n",
    "            for i in range(0,self.rare,1):\n",
    "                print(self.ptr[i])\n",
    "        else:\n",
    "            for i in range(0,self.rare,1):\n",
    "                print(self.ptr[i])\n",
    "\n",
    "size=int(input(\"Enter Size:\"))\n",
    "Q=Queue(size)\n",
    "print(\"Enter values\")\n",
    "for i in range (0,size,1):\n",
    "    x=int(input())\n",
    "    Q.Enqueue(x)\n",
    "print(\"Queue values\")\n",
    "Q.Print()\n",
    "temp=Q.Dequeue()\n",
    "value=0\n",
    "for i in range (1,size,1):\n",
    "    value=Q.Dequeue()\n",
    "    if(value<temp):\n",
    "        temp=value\n",
    "print(\"Smallest value in Queue=\",temp)"
   ]
  },
  {
   "cell_type": "markdown",
   "metadata": {},
   "source": [
    "# Q6\n"
   ]
  },
  {
   "cell_type": "code",
   "execution_count": 2,
   "metadata": {},
   "outputs": [],
   "source": [
    "from queue import Queue"
   ]
  },
  {
   "cell_type": "code",
   "execution_count": 20,
   "metadata": {},
   "outputs": [
    {
     "name": "stdout",
     "output_type": "stream",
     "text": [
      "3\n",
      "2\n",
      "1\n"
     ]
    }
   ],
   "source": [
    "class Stack:\n",
    "    def __init__(self,size=0):\n",
    "        self.size=size\n",
    "        self.q = Queue(maxsize=size)  \n",
    "        self.index=0\n",
    "    def Push(self,value):\n",
    "        if(self.index<self.size):\n",
    "            self.q.put(value)\n",
    "            self.index+=1\n",
    "    def Pop(self):\n",
    "        if(self.index>0):\n",
    "            value=0\n",
    "            q1=Queue(maxsize=self.size)\n",
    "            for i in range(0,self.index-1,1):\n",
    "                q1.put(self.q.get())\n",
    "            value= self.q.get()\n",
    "            for i in range(0,self.index-1,1):\n",
    "                self.q.put(q1.get())\n",
    "            self.index-=1\n",
    "            return value\n",
    "    def IsEmpty(self):\n",
    "        if(self.index==0):\n",
    "            return 1\n",
    "        return 0\n",
    "    def Isfull(self):\n",
    "        if(self.index==self.size):\n",
    "            return 1\n",
    "        return 0\n",
    "S=Stack(6)\n",
    "S.Push(1)\n",
    "S.Push(2)\n",
    "S.Push(3)\n",
    "print(S.Pop())\n",
    "print(S.Pop())\n",
    "print(S.Pop())"
   ]
  },
  {
   "cell_type": "code",
   "execution_count": null,
   "metadata": {},
   "outputs": [],
   "source": []
  }
 ],
 "metadata": {
  "kernelspec": {
   "display_name": "Python 3",
   "language": "python",
   "name": "python3"
  },
  "language_info": {
   "codemirror_mode": {
    "name": "ipython",
    "version": 3
   },
   "file_extension": ".py",
   "mimetype": "text/x-python",
   "name": "python",
   "nbconvert_exporter": "python",
   "pygments_lexer": "ipython3",
   "version": "3.8.3"
  }
 },
 "nbformat": 4,
 "nbformat_minor": 4
}
